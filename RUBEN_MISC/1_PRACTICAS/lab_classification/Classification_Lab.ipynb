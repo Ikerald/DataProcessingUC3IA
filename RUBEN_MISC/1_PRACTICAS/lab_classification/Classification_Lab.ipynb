{
 "cells": [
  {
   "cell_type": "markdown",
   "id": "ada593d9",
   "metadata": {
    "id": "ada593d9",
    "jp-MarkdownHeadingCollapsed": true,
    "tags": [],
    "toc": true
   },
   "source": [
    "# Laboratory exercise: Classification\n",
    "\n",
    "In this laboratory exercise we will apply classification and regression algorithms over a synthetic dataset."
   ]
  },
  {
   "cell_type": "markdown",
   "id": "d6bfad0d",
   "metadata": {},
   "source": [
    "\n",
    "## Data load.\n",
    "\n",
    "Load the data variables from the npz file provided with this exercise"
   ]
  },
  {
   "cell_type": "code",
   "execution_count": 44,
   "id": "c450bfa5",
   "metadata": {},
   "outputs": [],
   "source": [
    "import numpy as np\n",
    "from sklearn.metrics import accuracy_score\n",
    "import sklearn\n",
    "\n",
    "# Load data from file 10012345.mat .\n",
    "data = np.load('10012345.npz')\n",
    "\n",
    "xRtrain = data['xRtrain']\n",
    "xRtrainLost = data['xRtrainLost']\n",
    "xRval = data['xRval']\n",
    "sRtrain = data['sRtrain']\n",
    "sRval = data['sRval']\n",
    "xCtrain = data['xCtrain']\n",
    "xCval = data['xCval']\n",
    "yCtrain = data['yCtrain']\n",
    "yCval = data['yCval']"
   ]
  },
  {
   "cell_type": "markdown",
   "id": "6e3ad414",
   "metadata": {},
   "source": [
    "Initialize all requested variables to 0."
   ]
  },
  {
   "cell_type": "code",
   "execution_count": 45,
   "id": "53117023",
   "metadata": {},
   "outputs": [],
   "source": [
    "# Classification:\n",
    "w_full, e_full, p20, emin, nvar, wmin, cv0, rp_opt, fpr = 0, 0, 0, 0, 0, 0, 0, 0, 0\n",
    "# Regression:\n",
    "wML, AAE, NLL, wmean, Vw = 0, 0, 0, 0, 0\n"
   ]
  },
  {
   "cell_type": "markdown",
   "id": "2482c9af",
   "metadata": {},
   "source": [
    "## Part 1: Clasification\n",
    "\n",
    "Each of the data matrices `xCtrain` and `xCval` contains 240 data vectors with dimension $D=5$. \n",
    "\n",
    "Assume that the binary labels `yCtrain` and `yCval` (with values in {0, 1}) were generated according to a logistic regression model:\n",
    "$$p(y = 1 | {\\bf w}, {\\bf x}) = \\frac{1}{1 + \\exp(-{\\bf w}^T {\\bf z})}$$\n",
    "where  \n",
    "$$\n",
    "{\\bf z} = \\begin{pmatrix} 1 \\\\ {\\bf x} \\end{pmatrix}\n",
    "$$"
   ]
  },
  {
   "cell_type": "markdown",
   "id": "4644ab3f",
   "metadata": {},
   "source": [
    "### Exercise C0 [extra]:\n",
    "\n",
    "Normalize the input matrices in such a way that each feature has zero mean and unit standard deviation. You can do it using standard python commands or by means of the `preprocessing.StandardScaler` from `sklearn`. Use `xCtrain` to estimate the mean and variance of each feature, and make sure that the same normalization is applied to any input, ${\\bf x}$, no matter if it belogs to the training or the validation set.\n",
    "\n",
    "Store the normalized matrices in the same variables, `xCtrain`and `xCval`."
   ]
  },
  {
   "cell_type": "code",
   "execution_count": 46,
   "id": "99a10e56",
   "metadata": {},
   "outputs": [
    {
     "name": "stdout",
     "output_type": "stream",
     "text": [
      "(240, 5)\n"
     ]
    }
   ],
   "source": [
    "# Write your code here.\n",
    "# <SOL>\n",
    "# </SOL>    \n",
    "# mean_R = np.mean(xRtrain, axis=0)\n",
    "# std_R = np.std(xRtrain, axis=0)\n",
    "# Xtrain = (xRtrain - mean_R) / std_R\n",
    "# xRtrainLost = (xRtrainLost - mean_R) / std_R\n",
    "# xRval = (xRval - mean_R) / std_R\n",
    "\n",
    "# mean_R = np.mean(xRtrain, axis=0)\n",
    "# std_R = np.std(xRtrain, axis=0)\n",
    "# XCrain = (xCtrain - mean_R) / std_R\n",
    "# xCval = (xCval - mean_R) / std_R\n",
    "from sklearn.linear_model import LogisticRegression\n",
    "from sklearn.preprocessing import StandardScaler\n",
    "# Initialize the StandardScaler\n",
    "scaler = StandardScaler()\n",
    "scaler2 = StandardScaler()\n",
    "# Fit the scaler to the training data and transform it\n",
    "xCtrain_norm = scaler.fit_transform(xCtrain)\n",
    "xRtrain = scaler2.fit_transform(xRtrain)\n",
    "\n",
    "# You can use the same scaler to normalize any validation set to ensure consistency\n",
    "xCval_norm= scaler.transform(xCval)  # Replace with your validation data\n",
    "xRval = scaler2.transform(xRval)\n",
    "\n",
    "xCtrain = np.hstack((np.ones((xCtrain_norm.shape[0], 1)), xCtrain_norm))\n",
    "xCval = np.hstack((np.ones((xCval_norm.shape[0], 1)), xCval_norm))\n",
    "\n",
    "print(xCtrain_norm.shape)\n"
   ]
  },
  {
   "cell_type": "markdown",
   "id": "8d726bc8",
   "metadata": {},
   "source": [
    "### Exercise C1:\n",
    "\n",
    "As a preliminary task, fit a logistic regression model using the training data available in `xCtrain` and `yCtrain`, using the implementation available from `sklearn`. Use regularization parameter $C=2$, set the `random_state` to 42 and use the default values for all other arguments. \n",
    "\n",
    "Store the resulting weight vector in the variable `w_full`.\n"
   ]
  },
  {
   "cell_type": "code",
   "execution_count": 47,
   "id": "c86139e2",
   "metadata": {},
   "outputs": [
    {
     "name": "stdout",
     "output_type": "stream",
     "text": [
      "[ 0.02930159 -0.12589863  1.15997047 -0.15528534  0.71331906  0.27936377]\n"
     ]
    }
   ],
   "source": [
    "# Write your code here.\n",
    "\n",
    "#<SOL>\n",
    "#</SOL>\n",
    "model = LogisticRegression(C=2, random_state=42, fit_intercept=False)\n",
    "w_full = model.fit(xCtrain, yCtrain).coef_[0]#Porque es binario\n",
    "print(w_full)"
   ]
  },
  {
   "cell_type": "markdown",
   "id": "ede95aeb",
   "metadata": {},
   "source": [
    "### Exercise C2.\n",
    "\n",
    "Determine the classification error rate measured on the validation data (`xCval` and `yCval`). Store the error rate in the variable `e_full`."
   ]
  },
  {
   "cell_type": "code",
   "execution_count": 48,
   "id": "54ac4c32",
   "metadata": {},
   "outputs": [
    {
     "name": "stdout",
     "output_type": "stream",
     "text": [
      "0.25104166666666666\n"
     ]
    }
   ],
   "source": [
    "# Write your code here.\n",
    "#<SOL>\n",
    "# </SOL>\n",
    "# Predecir las etiquetas para los datos de validación\n",
    "yCval_pred = model.predict(xCval)\n",
    "\n",
    "# Calcular la tasa de error de clasificación\n",
    "e_full = np.mean(yCval_pred != yCval)\n",
    "# Print the error rate.\n",
    "print(e_full)"
   ]
  },
  {
   "cell_type": "markdown",
   "id": "1d2e19d2",
   "metadata": {},
   "source": [
    "### Exercise C3\n",
    "\n",
    "Determine the probability that the $k$-th sample in the validation set belongs to category  $y_k = 1$, according to the model computed in exercise 1, for $k = 0, 1, \\dots, 19$. Store the result in the variable `p20`.\n",
    "\n"
   ]
  },
  {
   "cell_type": "code",
   "execution_count": 49,
   "id": "b6647046",
   "metadata": {},
   "outputs": [
    {
     "name": "stdout",
     "output_type": "stream",
     "text": [
      "[0.88394365 0.28847106 0.08091301 0.0258122  0.87142269 0.84381446\n",
      " 0.19677792 0.33481932 0.41210246 0.23977197 0.23093801 0.41438111\n",
      " 0.15926061 0.16408098 0.86420816 0.19535421 0.28271016 0.28848939\n",
      " 0.02786647 0.39428892]\n"
     ]
    }
   ],
   "source": [
    "# Write your code here\n",
    "# <SOL>\n",
    "# </SOL>\n",
    "K = 20\n",
    "\n",
    "probas = model.predict_proba(xCval)\n",
    "\n",
    "probas_y1 = probas[:, 1]\n",
    "p20 = probas_y1[:20]  \n",
    "\n",
    "\n",
    "# Print the probabilities.\n",
    "print(p20)"
   ]
  },
  {
   "cell_type": "markdown",
   "id": "184ca46b",
   "metadata": {},
   "source": [
    "### Exercise C4.\n",
    "\n",
    "It is known that all coefficients  $w_i$  (with  $i > n$) are zero, that is, all variables $x_{n+1}, \\dots, x_{D-1}$ are irrelevant for the classification task, but the value of $n$ is unknown. Consequently, the goal is to fit a model that includes only the relevant variables:\n",
    "\n",
    "Train $D$ different logistic regression models, starting with the model that uses only the first variable, and adding one variable at a time, so that the $i$-th model will use only the variables $x_0, x_1, \\dots, x_{i-1}$.  Using $C=2$, `random_state`=42 and all other default parameters.\n",
    "\n",
    "For each model, compute the classification error rate (on the validation data), and keep the best result. \n",
    "\n",
    "Store the following variables:\n",
    "\n",
    "  * `emin`: the lowest validation error\n",
    "  * `nvar`: an integer indicating the number of variables in the model, \n",
    "  * `wmin`: the corresponding weight vector (only for the best case).\n",
    "\n"
   ]
  },
  {
   "cell_type": "code",
   "execution_count": 50,
   "id": "619dbdb9",
   "metadata": {},
   "outputs": [
    {
     "name": "stdout",
     "output_type": "stream",
     "text": [
      "0.4864583333333333\n",
      "0.4697916666666667\n",
      "0.2833333333333333\n",
      "0.2822916666666667\n",
      "0.2510416666666667\n",
      "0.2510416666666667\n",
      "emin = 0.2510416666666667\n",
      "nvar = 5\n",
      "[ 0.03084771 -0.13571241  1.16055007 -0.15423423  0.7210371 ]\n"
     ]
    }
   ],
   "source": [
    "# Write your code here.\n",
    "#<SOL>\n",
    "#</SOL>\n",
    "\n",
    "emin = float('inf') \n",
    "nvar = 0              \n",
    "wmin = None           \n",
    "\n",
    "D = xCtrain.shape[1] \n",
    "\n",
    "for i in range(1, D + 1):  \n",
    "    x_train_subset = xCtrain[:, :i]\n",
    "    x_val_subset = xCval[:, :i]\n",
    "\n",
    "    model = LogisticRegression(C=2, random_state=42, fit_intercept=False)\n",
    "    model.fit(x_train_subset, yCtrain)\n",
    "\n",
    "    y_val_pred = model.predict(x_val_subset)\n",
    "\n",
    "    error_rate = 1 - model.score(x_val_subset, yCval)  \n",
    "    print(error_rate)\n",
    "    if error_rate < emin:\n",
    "        emin = error_rate\n",
    "        nvar = i\n",
    "        wmin = model.coef_[0]  # Guardar el vector de pesos\n",
    "\n",
    "# Print the results.\n",
    "print(f\"emin = {emin}\")\n",
    "print(f\"nvar = {nvar}\")\n",
    "print(wmin)"
   ]
  },
  {
   "cell_type": "markdown",
   "id": "aa77badb",
   "metadata": {},
   "source": [
    "### Exercise C5 [extra].\n",
    "\n",
    "In this exercise we will train a classifier based on **quadratic discriminant analysis**, using the appropriate class from `sklearn`.\n",
    "\n",
    "The algorithm has a regularization parameter, `reg_param`, that must take some value between 0 and 1. We will select the appropriate value by means of 10-fold cross validation. As a validation metric, we will use the <a href=https://scikit-learn.org/stable/modules/generated/sklearn.metrics.f1_score.html#sklearn.metrics.f1_score>F1-score</a>.\n",
    "\n",
    "To do so:\n",
    "\n",
    "  1. Join the train and validation sets into a single dataset, by stacking matrices `xCtrain` (on top) and `xCval` (down) into a single matrix `xCV`. In a similar way, join labels into aarray `yV`.\n",
    "  2. Using the CV dataset and the `cross_val_score` method from `sklearn.model_selection`, compute the cross validation F1-score (averaged over all folds), for `reg_param=0`. Save the result in variable `cv0`\n",
    "  3. Select the best value of `reg_param` in $\\{0, 0.1, 0.2, 0.3, \\ldots, 1.0\\}$ by 10-fold cross validation, according to the F1-score. Save the result in variable `rp_opt`.\n"
   ]
  },
  {
   "cell_type": "code",
   "execution_count": 63,
   "id": "de4906ff",
   "metadata": {},
   "outputs": [
    {
     "name": "stdout",
     "output_type": "stream",
     "text": [
      "(240, 6)\n",
      "(240,)\n",
      "(1200,)\n",
      "0.0\n",
      "0.0\n",
      "0.1\n",
      "0.7520529343472969\n",
      "0.2\n",
      "0.7514244975837462\n",
      "0.30000000000000004\n",
      "0.7500788396669354\n",
      "0.4\n",
      "0.750061549997822\n",
      "0.5\n",
      "0.7506710738073459\n"
     ]
    },
    {
     "name": "stderr",
     "output_type": "stream",
     "text": [
      "c:\\Users\\ruben\\anaconda3\\envs\\Tratamientodedatos\\Lib\\site-packages\\sklearn\\discriminant_analysis.py:947: UserWarning: Variables are collinear\n",
      "  warnings.warn(\"Variables are collinear\")\n",
      "c:\\Users\\ruben\\anaconda3\\envs\\Tratamientodedatos\\Lib\\site-packages\\sklearn\\discriminant_analysis.py:972: RuntimeWarning: divide by zero encountered in power\n",
      "  X2 = np.dot(Xm, R * (S ** (-0.5)))\n",
      "c:\\Users\\ruben\\anaconda3\\envs\\Tratamientodedatos\\Lib\\site-packages\\sklearn\\discriminant_analysis.py:972: RuntimeWarning: invalid value encountered in multiply\n",
      "  X2 = np.dot(Xm, R * (S ** (-0.5)))\n",
      "c:\\Users\\ruben\\anaconda3\\envs\\Tratamientodedatos\\Lib\\site-packages\\sklearn\\discriminant_analysis.py:975: RuntimeWarning: divide by zero encountered in log\n",
      "  u = np.asarray([np.sum(np.log(s)) for s in self.scalings_])\n",
      "c:\\Users\\ruben\\anaconda3\\envs\\Tratamientodedatos\\Lib\\site-packages\\sklearn\\discriminant_analysis.py:947: UserWarning: Variables are collinear\n",
      "  warnings.warn(\"Variables are collinear\")\n",
      "c:\\Users\\ruben\\anaconda3\\envs\\Tratamientodedatos\\Lib\\site-packages\\sklearn\\discriminant_analysis.py:972: RuntimeWarning: divide by zero encountered in power\n",
      "  X2 = np.dot(Xm, R * (S ** (-0.5)))\n",
      "c:\\Users\\ruben\\anaconda3\\envs\\Tratamientodedatos\\Lib\\site-packages\\sklearn\\discriminant_analysis.py:972: RuntimeWarning: invalid value encountered in multiply\n",
      "  X2 = np.dot(Xm, R * (S ** (-0.5)))\n",
      "c:\\Users\\ruben\\anaconda3\\envs\\Tratamientodedatos\\Lib\\site-packages\\sklearn\\discriminant_analysis.py:975: RuntimeWarning: divide by zero encountered in log\n",
      "  u = np.asarray([np.sum(np.log(s)) for s in self.scalings_])\n",
      "c:\\Users\\ruben\\anaconda3\\envs\\Tratamientodedatos\\Lib\\site-packages\\sklearn\\discriminant_analysis.py:947: UserWarning: Variables are collinear\n",
      "  warnings.warn(\"Variables are collinear\")\n",
      "c:\\Users\\ruben\\anaconda3\\envs\\Tratamientodedatos\\Lib\\site-packages\\sklearn\\discriminant_analysis.py:972: RuntimeWarning: divide by zero encountered in power\n",
      "  X2 = np.dot(Xm, R * (S ** (-0.5)))\n",
      "c:\\Users\\ruben\\anaconda3\\envs\\Tratamientodedatos\\Lib\\site-packages\\sklearn\\discriminant_analysis.py:972: RuntimeWarning: invalid value encountered in multiply\n",
      "  X2 = np.dot(Xm, R * (S ** (-0.5)))\n",
      "c:\\Users\\ruben\\anaconda3\\envs\\Tratamientodedatos\\Lib\\site-packages\\sklearn\\discriminant_analysis.py:975: RuntimeWarning: divide by zero encountered in log\n",
      "  u = np.asarray([np.sum(np.log(s)) for s in self.scalings_])\n",
      "c:\\Users\\ruben\\anaconda3\\envs\\Tratamientodedatos\\Lib\\site-packages\\sklearn\\discriminant_analysis.py:947: UserWarning: Variables are collinear\n",
      "  warnings.warn(\"Variables are collinear\")\n",
      "c:\\Users\\ruben\\anaconda3\\envs\\Tratamientodedatos\\Lib\\site-packages\\sklearn\\discriminant_analysis.py:972: RuntimeWarning: divide by zero encountered in power\n",
      "  X2 = np.dot(Xm, R * (S ** (-0.5)))\n",
      "c:\\Users\\ruben\\anaconda3\\envs\\Tratamientodedatos\\Lib\\site-packages\\sklearn\\discriminant_analysis.py:972: RuntimeWarning: invalid value encountered in multiply\n",
      "  X2 = np.dot(Xm, R * (S ** (-0.5)))\n",
      "c:\\Users\\ruben\\anaconda3\\envs\\Tratamientodedatos\\Lib\\site-packages\\sklearn\\discriminant_analysis.py:975: RuntimeWarning: divide by zero encountered in log\n",
      "  u = np.asarray([np.sum(np.log(s)) for s in self.scalings_])\n",
      "c:\\Users\\ruben\\anaconda3\\envs\\Tratamientodedatos\\Lib\\site-packages\\sklearn\\discriminant_analysis.py:947: UserWarning: Variables are collinear\n",
      "  warnings.warn(\"Variables are collinear\")\n",
      "c:\\Users\\ruben\\anaconda3\\envs\\Tratamientodedatos\\Lib\\site-packages\\sklearn\\discriminant_analysis.py:972: RuntimeWarning: divide by zero encountered in power\n",
      "  X2 = np.dot(Xm, R * (S ** (-0.5)))\n",
      "c:\\Users\\ruben\\anaconda3\\envs\\Tratamientodedatos\\Lib\\site-packages\\sklearn\\discriminant_analysis.py:972: RuntimeWarning: invalid value encountered in multiply\n",
      "  X2 = np.dot(Xm, R * (S ** (-0.5)))\n",
      "c:\\Users\\ruben\\anaconda3\\envs\\Tratamientodedatos\\Lib\\site-packages\\sklearn\\discriminant_analysis.py:975: RuntimeWarning: divide by zero encountered in log\n",
      "  u = np.asarray([np.sum(np.log(s)) for s in self.scalings_])\n",
      "c:\\Users\\ruben\\anaconda3\\envs\\Tratamientodedatos\\Lib\\site-packages\\sklearn\\discriminant_analysis.py:947: UserWarning: Variables are collinear\n",
      "  warnings.warn(\"Variables are collinear\")\n",
      "c:\\Users\\ruben\\anaconda3\\envs\\Tratamientodedatos\\Lib\\site-packages\\sklearn\\discriminant_analysis.py:972: RuntimeWarning: divide by zero encountered in power\n",
      "  X2 = np.dot(Xm, R * (S ** (-0.5)))\n",
      "c:\\Users\\ruben\\anaconda3\\envs\\Tratamientodedatos\\Lib\\site-packages\\sklearn\\discriminant_analysis.py:972: RuntimeWarning: invalid value encountered in multiply\n",
      "  X2 = np.dot(Xm, R * (S ** (-0.5)))\n",
      "c:\\Users\\ruben\\anaconda3\\envs\\Tratamientodedatos\\Lib\\site-packages\\sklearn\\discriminant_analysis.py:975: RuntimeWarning: divide by zero encountered in log\n",
      "  u = np.asarray([np.sum(np.log(s)) for s in self.scalings_])\n",
      "c:\\Users\\ruben\\anaconda3\\envs\\Tratamientodedatos\\Lib\\site-packages\\sklearn\\discriminant_analysis.py:947: UserWarning: Variables are collinear\n",
      "  warnings.warn(\"Variables are collinear\")\n",
      "c:\\Users\\ruben\\anaconda3\\envs\\Tratamientodedatos\\Lib\\site-packages\\sklearn\\discriminant_analysis.py:972: RuntimeWarning: divide by zero encountered in power\n",
      "  X2 = np.dot(Xm, R * (S ** (-0.5)))\n",
      "c:\\Users\\ruben\\anaconda3\\envs\\Tratamientodedatos\\Lib\\site-packages\\sklearn\\discriminant_analysis.py:972: RuntimeWarning: invalid value encountered in multiply\n",
      "  X2 = np.dot(Xm, R * (S ** (-0.5)))\n",
      "c:\\Users\\ruben\\anaconda3\\envs\\Tratamientodedatos\\Lib\\site-packages\\sklearn\\discriminant_analysis.py:975: RuntimeWarning: divide by zero encountered in log\n",
      "  u = np.asarray([np.sum(np.log(s)) for s in self.scalings_])\n",
      "c:\\Users\\ruben\\anaconda3\\envs\\Tratamientodedatos\\Lib\\site-packages\\sklearn\\discriminant_analysis.py:947: UserWarning: Variables are collinear\n",
      "  warnings.warn(\"Variables are collinear\")\n",
      "c:\\Users\\ruben\\anaconda3\\envs\\Tratamientodedatos\\Lib\\site-packages\\sklearn\\discriminant_analysis.py:972: RuntimeWarning: divide by zero encountered in power\n",
      "  X2 = np.dot(Xm, R * (S ** (-0.5)))\n",
      "c:\\Users\\ruben\\anaconda3\\envs\\Tratamientodedatos\\Lib\\site-packages\\sklearn\\discriminant_analysis.py:972: RuntimeWarning: invalid value encountered in multiply\n",
      "  X2 = np.dot(Xm, R * (S ** (-0.5)))\n",
      "c:\\Users\\ruben\\anaconda3\\envs\\Tratamientodedatos\\Lib\\site-packages\\sklearn\\discriminant_analysis.py:975: RuntimeWarning: divide by zero encountered in log\n",
      "  u = np.asarray([np.sum(np.log(s)) for s in self.scalings_])\n",
      "c:\\Users\\ruben\\anaconda3\\envs\\Tratamientodedatos\\Lib\\site-packages\\sklearn\\discriminant_analysis.py:947: UserWarning: Variables are collinear\n",
      "  warnings.warn(\"Variables are collinear\")\n",
      "c:\\Users\\ruben\\anaconda3\\envs\\Tratamientodedatos\\Lib\\site-packages\\sklearn\\discriminant_analysis.py:972: RuntimeWarning: divide by zero encountered in power\n",
      "  X2 = np.dot(Xm, R * (S ** (-0.5)))\n",
      "c:\\Users\\ruben\\anaconda3\\envs\\Tratamientodedatos\\Lib\\site-packages\\sklearn\\discriminant_analysis.py:972: RuntimeWarning: invalid value encountered in multiply\n",
      "  X2 = np.dot(Xm, R * (S ** (-0.5)))\n",
      "c:\\Users\\ruben\\anaconda3\\envs\\Tratamientodedatos\\Lib\\site-packages\\sklearn\\discriminant_analysis.py:975: RuntimeWarning: divide by zero encountered in log\n",
      "  u = np.asarray([np.sum(np.log(s)) for s in self.scalings_])\n",
      "c:\\Users\\ruben\\anaconda3\\envs\\Tratamientodedatos\\Lib\\site-packages\\sklearn\\discriminant_analysis.py:947: UserWarning: Variables are collinear\n",
      "  warnings.warn(\"Variables are collinear\")\n",
      "c:\\Users\\ruben\\anaconda3\\envs\\Tratamientodedatos\\Lib\\site-packages\\sklearn\\discriminant_analysis.py:972: RuntimeWarning: divide by zero encountered in power\n",
      "  X2 = np.dot(Xm, R * (S ** (-0.5)))\n",
      "c:\\Users\\ruben\\anaconda3\\envs\\Tratamientodedatos\\Lib\\site-packages\\sklearn\\discriminant_analysis.py:972: RuntimeWarning: invalid value encountered in multiply\n",
      "  X2 = np.dot(Xm, R * (S ** (-0.5)))\n",
      "c:\\Users\\ruben\\anaconda3\\envs\\Tratamientodedatos\\Lib\\site-packages\\sklearn\\discriminant_analysis.py:975: RuntimeWarning: divide by zero encountered in log\n",
      "  u = np.asarray([np.sum(np.log(s)) for s in self.scalings_])\n",
      "c:\\Users\\ruben\\anaconda3\\envs\\Tratamientodedatos\\Lib\\site-packages\\sklearn\\discriminant_analysis.py:947: UserWarning: Variables are collinear\n",
      "  warnings.warn(\"Variables are collinear\")\n",
      "c:\\Users\\ruben\\anaconda3\\envs\\Tratamientodedatos\\Lib\\site-packages\\sklearn\\discriminant_analysis.py:972: RuntimeWarning: divide by zero encountered in power\n",
      "  X2 = np.dot(Xm, R * (S ** (-0.5)))\n",
      "c:\\Users\\ruben\\anaconda3\\envs\\Tratamientodedatos\\Lib\\site-packages\\sklearn\\discriminant_analysis.py:972: RuntimeWarning: invalid value encountered in multiply\n",
      "  X2 = np.dot(Xm, R * (S ** (-0.5)))\n",
      "c:\\Users\\ruben\\anaconda3\\envs\\Tratamientodedatos\\Lib\\site-packages\\sklearn\\discriminant_analysis.py:975: RuntimeWarning: divide by zero encountered in log\n",
      "  u = np.asarray([np.sum(np.log(s)) for s in self.scalings_])\n",
      "c:\\Users\\ruben\\anaconda3\\envs\\Tratamientodedatos\\Lib\\site-packages\\sklearn\\discriminant_analysis.py:947: UserWarning: Variables are collinear\n",
      "  warnings.warn(\"Variables are collinear\")\n",
      "c:\\Users\\ruben\\anaconda3\\envs\\Tratamientodedatos\\Lib\\site-packages\\sklearn\\discriminant_analysis.py:972: RuntimeWarning: divide by zero encountered in power\n",
      "  X2 = np.dot(Xm, R * (S ** (-0.5)))\n",
      "c:\\Users\\ruben\\anaconda3\\envs\\Tratamientodedatos\\Lib\\site-packages\\sklearn\\discriminant_analysis.py:972: RuntimeWarning: invalid value encountered in multiply\n",
      "  X2 = np.dot(Xm, R * (S ** (-0.5)))\n",
      "c:\\Users\\ruben\\anaconda3\\envs\\Tratamientodedatos\\Lib\\site-packages\\sklearn\\discriminant_analysis.py:975: RuntimeWarning: divide by zero encountered in log\n",
      "  u = np.asarray([np.sum(np.log(s)) for s in self.scalings_])\n",
      "c:\\Users\\ruben\\anaconda3\\envs\\Tratamientodedatos\\Lib\\site-packages\\sklearn\\discriminant_analysis.py:947: UserWarning: Variables are collinear\n",
      "  warnings.warn(\"Variables are collinear\")\n",
      "c:\\Users\\ruben\\anaconda3\\envs\\Tratamientodedatos\\Lib\\site-packages\\sklearn\\discriminant_analysis.py:972: RuntimeWarning: divide by zero encountered in power\n",
      "  X2 = np.dot(Xm, R * (S ** (-0.5)))\n",
      "c:\\Users\\ruben\\anaconda3\\envs\\Tratamientodedatos\\Lib\\site-packages\\sklearn\\discriminant_analysis.py:972: RuntimeWarning: invalid value encountered in multiply\n",
      "  X2 = np.dot(Xm, R * (S ** (-0.5)))\n",
      "c:\\Users\\ruben\\anaconda3\\envs\\Tratamientodedatos\\Lib\\site-packages\\sklearn\\discriminant_analysis.py:975: RuntimeWarning: divide by zero encountered in log\n",
      "  u = np.asarray([np.sum(np.log(s)) for s in self.scalings_])\n",
      "c:\\Users\\ruben\\anaconda3\\envs\\Tratamientodedatos\\Lib\\site-packages\\sklearn\\discriminant_analysis.py:947: UserWarning: Variables are collinear\n",
      "  warnings.warn(\"Variables are collinear\")\n",
      "c:\\Users\\ruben\\anaconda3\\envs\\Tratamientodedatos\\Lib\\site-packages\\sklearn\\discriminant_analysis.py:972: RuntimeWarning: divide by zero encountered in power\n",
      "  X2 = np.dot(Xm, R * (S ** (-0.5)))\n",
      "c:\\Users\\ruben\\anaconda3\\envs\\Tratamientodedatos\\Lib\\site-packages\\sklearn\\discriminant_analysis.py:972: RuntimeWarning: invalid value encountered in multiply\n",
      "  X2 = np.dot(Xm, R * (S ** (-0.5)))\n",
      "c:\\Users\\ruben\\anaconda3\\envs\\Tratamientodedatos\\Lib\\site-packages\\sklearn\\discriminant_analysis.py:975: RuntimeWarning: divide by zero encountered in log\n",
      "  u = np.asarray([np.sum(np.log(s)) for s in self.scalings_])\n",
      "c:\\Users\\ruben\\anaconda3\\envs\\Tratamientodedatos\\Lib\\site-packages\\sklearn\\discriminant_analysis.py:947: UserWarning: Variables are collinear\n",
      "  warnings.warn(\"Variables are collinear\")\n",
      "c:\\Users\\ruben\\anaconda3\\envs\\Tratamientodedatos\\Lib\\site-packages\\sklearn\\discriminant_analysis.py:972: RuntimeWarning: divide by zero encountered in power\n",
      "  X2 = np.dot(Xm, R * (S ** (-0.5)))\n",
      "c:\\Users\\ruben\\anaconda3\\envs\\Tratamientodedatos\\Lib\\site-packages\\sklearn\\discriminant_analysis.py:972: RuntimeWarning: invalid value encountered in multiply\n",
      "  X2 = np.dot(Xm, R * (S ** (-0.5)))\n",
      "c:\\Users\\ruben\\anaconda3\\envs\\Tratamientodedatos\\Lib\\site-packages\\sklearn\\discriminant_analysis.py:975: RuntimeWarning: divide by zero encountered in log\n",
      "  u = np.asarray([np.sum(np.log(s)) for s in self.scalings_])\n",
      "c:\\Users\\ruben\\anaconda3\\envs\\Tratamientodedatos\\Lib\\site-packages\\sklearn\\discriminant_analysis.py:947: UserWarning: Variables are collinear\n",
      "  warnings.warn(\"Variables are collinear\")\n",
      "c:\\Users\\ruben\\anaconda3\\envs\\Tratamientodedatos\\Lib\\site-packages\\sklearn\\discriminant_analysis.py:972: RuntimeWarning: divide by zero encountered in power\n",
      "  X2 = np.dot(Xm, R * (S ** (-0.5)))\n",
      "c:\\Users\\ruben\\anaconda3\\envs\\Tratamientodedatos\\Lib\\site-packages\\sklearn\\discriminant_analysis.py:972: RuntimeWarning: invalid value encountered in multiply\n",
      "  X2 = np.dot(Xm, R * (S ** (-0.5)))\n",
      "c:\\Users\\ruben\\anaconda3\\envs\\Tratamientodedatos\\Lib\\site-packages\\sklearn\\discriminant_analysis.py:975: RuntimeWarning: divide by zero encountered in log\n",
      "  u = np.asarray([np.sum(np.log(s)) for s in self.scalings_])\n",
      "c:\\Users\\ruben\\anaconda3\\envs\\Tratamientodedatos\\Lib\\site-packages\\sklearn\\discriminant_analysis.py:947: UserWarning: Variables are collinear\n",
      "  warnings.warn(\"Variables are collinear\")\n",
      "c:\\Users\\ruben\\anaconda3\\envs\\Tratamientodedatos\\Lib\\site-packages\\sklearn\\discriminant_analysis.py:972: RuntimeWarning: divide by zero encountered in power\n",
      "  X2 = np.dot(Xm, R * (S ** (-0.5)))\n",
      "c:\\Users\\ruben\\anaconda3\\envs\\Tratamientodedatos\\Lib\\site-packages\\sklearn\\discriminant_analysis.py:972: RuntimeWarning: invalid value encountered in multiply\n",
      "  X2 = np.dot(Xm, R * (S ** (-0.5)))\n",
      "c:\\Users\\ruben\\anaconda3\\envs\\Tratamientodedatos\\Lib\\site-packages\\sklearn\\discriminant_analysis.py:975: RuntimeWarning: divide by zero encountered in log\n",
      "  u = np.asarray([np.sum(np.log(s)) for s in self.scalings_])\n",
      "c:\\Users\\ruben\\anaconda3\\envs\\Tratamientodedatos\\Lib\\site-packages\\sklearn\\discriminant_analysis.py:947: UserWarning: Variables are collinear\n",
      "  warnings.warn(\"Variables are collinear\")\n",
      "c:\\Users\\ruben\\anaconda3\\envs\\Tratamientodedatos\\Lib\\site-packages\\sklearn\\discriminant_analysis.py:972: RuntimeWarning: divide by zero encountered in power\n",
      "  X2 = np.dot(Xm, R * (S ** (-0.5)))\n",
      "c:\\Users\\ruben\\anaconda3\\envs\\Tratamientodedatos\\Lib\\site-packages\\sklearn\\discriminant_analysis.py:972: RuntimeWarning: invalid value encountered in multiply\n",
      "  X2 = np.dot(Xm, R * (S ** (-0.5)))\n",
      "c:\\Users\\ruben\\anaconda3\\envs\\Tratamientodedatos\\Lib\\site-packages\\sklearn\\discriminant_analysis.py:975: RuntimeWarning: divide by zero encountered in log\n",
      "  u = np.asarray([np.sum(np.log(s)) for s in self.scalings_])\n",
      "c:\\Users\\ruben\\anaconda3\\envs\\Tratamientodedatos\\Lib\\site-packages\\sklearn\\discriminant_analysis.py:947: UserWarning: Variables are collinear\n",
      "  warnings.warn(\"Variables are collinear\")\n",
      "c:\\Users\\ruben\\anaconda3\\envs\\Tratamientodedatos\\Lib\\site-packages\\sklearn\\discriminant_analysis.py:972: RuntimeWarning: divide by zero encountered in power\n",
      "  X2 = np.dot(Xm, R * (S ** (-0.5)))\n",
      "c:\\Users\\ruben\\anaconda3\\envs\\Tratamientodedatos\\Lib\\site-packages\\sklearn\\discriminant_analysis.py:972: RuntimeWarning: invalid value encountered in multiply\n",
      "  X2 = np.dot(Xm, R * (S ** (-0.5)))\n",
      "c:\\Users\\ruben\\anaconda3\\envs\\Tratamientodedatos\\Lib\\site-packages\\sklearn\\discriminant_analysis.py:975: RuntimeWarning: divide by zero encountered in log\n",
      "  u = np.asarray([np.sum(np.log(s)) for s in self.scalings_])\n",
      "c:\\Users\\ruben\\anaconda3\\envs\\Tratamientodedatos\\Lib\\site-packages\\sklearn\\discriminant_analysis.py:947: UserWarning: Variables are collinear\n",
      "  warnings.warn(\"Variables are collinear\")\n",
      "c:\\Users\\ruben\\anaconda3\\envs\\Tratamientodedatos\\Lib\\site-packages\\sklearn\\discriminant_analysis.py:972: RuntimeWarning: divide by zero encountered in power\n",
      "  X2 = np.dot(Xm, R * (S ** (-0.5)))\n",
      "c:\\Users\\ruben\\anaconda3\\envs\\Tratamientodedatos\\Lib\\site-packages\\sklearn\\discriminant_analysis.py:972: RuntimeWarning: invalid value encountered in multiply\n",
      "  X2 = np.dot(Xm, R * (S ** (-0.5)))\n",
      "c:\\Users\\ruben\\anaconda3\\envs\\Tratamientodedatos\\Lib\\site-packages\\sklearn\\discriminant_analysis.py:975: RuntimeWarning: divide by zero encountered in log\n",
      "  u = np.asarray([np.sum(np.log(s)) for s in self.scalings_])\n",
      "c:\\Users\\ruben\\anaconda3\\envs\\Tratamientodedatos\\Lib\\site-packages\\sklearn\\discriminant_analysis.py:947: UserWarning: Variables are collinear\n",
      "  warnings.warn(\"Variables are collinear\")\n",
      "c:\\Users\\ruben\\anaconda3\\envs\\Tratamientodedatos\\Lib\\site-packages\\sklearn\\discriminant_analysis.py:947: UserWarning: Variables are collinear\n",
      "  warnings.warn(\"Variables are collinear\")\n",
      "c:\\Users\\ruben\\anaconda3\\envs\\Tratamientodedatos\\Lib\\site-packages\\sklearn\\discriminant_analysis.py:947: UserWarning: Variables are collinear\n",
      "  warnings.warn(\"Variables are collinear\")\n",
      "c:\\Users\\ruben\\anaconda3\\envs\\Tratamientodedatos\\Lib\\site-packages\\sklearn\\discriminant_analysis.py:947: UserWarning: Variables are collinear\n",
      "  warnings.warn(\"Variables are collinear\")\n",
      "c:\\Users\\ruben\\anaconda3\\envs\\Tratamientodedatos\\Lib\\site-packages\\sklearn\\discriminant_analysis.py:947: UserWarning: Variables are collinear\n",
      "  warnings.warn(\"Variables are collinear\")\n",
      "c:\\Users\\ruben\\anaconda3\\envs\\Tratamientodedatos\\Lib\\site-packages\\sklearn\\discriminant_analysis.py:947: UserWarning: Variables are collinear\n",
      "  warnings.warn(\"Variables are collinear\")\n",
      "c:\\Users\\ruben\\anaconda3\\envs\\Tratamientodedatos\\Lib\\site-packages\\sklearn\\discriminant_analysis.py:947: UserWarning: Variables are collinear\n",
      "  warnings.warn(\"Variables are collinear\")\n",
      "c:\\Users\\ruben\\anaconda3\\envs\\Tratamientodedatos\\Lib\\site-packages\\sklearn\\discriminant_analysis.py:947: UserWarning: Variables are collinear\n",
      "  warnings.warn(\"Variables are collinear\")\n",
      "c:\\Users\\ruben\\anaconda3\\envs\\Tratamientodedatos\\Lib\\site-packages\\sklearn\\discriminant_analysis.py:947: UserWarning: Variables are collinear\n",
      "  warnings.warn(\"Variables are collinear\")\n",
      "c:\\Users\\ruben\\anaconda3\\envs\\Tratamientodedatos\\Lib\\site-packages\\sklearn\\discriminant_analysis.py:947: UserWarning: Variables are collinear\n",
      "  warnings.warn(\"Variables are collinear\")\n",
      "c:\\Users\\ruben\\anaconda3\\envs\\Tratamientodedatos\\Lib\\site-packages\\sklearn\\discriminant_analysis.py:947: UserWarning: Variables are collinear\n",
      "  warnings.warn(\"Variables are collinear\")\n",
      "c:\\Users\\ruben\\anaconda3\\envs\\Tratamientodedatos\\Lib\\site-packages\\sklearn\\discriminant_analysis.py:947: UserWarning: Variables are collinear\n",
      "  warnings.warn(\"Variables are collinear\")\n",
      "c:\\Users\\ruben\\anaconda3\\envs\\Tratamientodedatos\\Lib\\site-packages\\sklearn\\discriminant_analysis.py:947: UserWarning: Variables are collinear\n",
      "  warnings.warn(\"Variables are collinear\")\n",
      "c:\\Users\\ruben\\anaconda3\\envs\\Tratamientodedatos\\Lib\\site-packages\\sklearn\\discriminant_analysis.py:947: UserWarning: Variables are collinear\n",
      "  warnings.warn(\"Variables are collinear\")\n",
      "c:\\Users\\ruben\\anaconda3\\envs\\Tratamientodedatos\\Lib\\site-packages\\sklearn\\discriminant_analysis.py:947: UserWarning: Variables are collinear\n",
      "  warnings.warn(\"Variables are collinear\")\n",
      "c:\\Users\\ruben\\anaconda3\\envs\\Tratamientodedatos\\Lib\\site-packages\\sklearn\\discriminant_analysis.py:947: UserWarning: Variables are collinear\n",
      "  warnings.warn(\"Variables are collinear\")\n",
      "c:\\Users\\ruben\\anaconda3\\envs\\Tratamientodedatos\\Lib\\site-packages\\sklearn\\discriminant_analysis.py:947: UserWarning: Variables are collinear\n",
      "  warnings.warn(\"Variables are collinear\")\n",
      "c:\\Users\\ruben\\anaconda3\\envs\\Tratamientodedatos\\Lib\\site-packages\\sklearn\\discriminant_analysis.py:947: UserWarning: Variables are collinear\n",
      "  warnings.warn(\"Variables are collinear\")\n",
      "c:\\Users\\ruben\\anaconda3\\envs\\Tratamientodedatos\\Lib\\site-packages\\sklearn\\discriminant_analysis.py:947: UserWarning: Variables are collinear\n",
      "  warnings.warn(\"Variables are collinear\")\n",
      "c:\\Users\\ruben\\anaconda3\\envs\\Tratamientodedatos\\Lib\\site-packages\\sklearn\\discriminant_analysis.py:947: UserWarning: Variables are collinear\n",
      "  warnings.warn(\"Variables are collinear\")\n",
      "c:\\Users\\ruben\\anaconda3\\envs\\Tratamientodedatos\\Lib\\site-packages\\sklearn\\discriminant_analysis.py:947: UserWarning: Variables are collinear\n",
      "  warnings.warn(\"Variables are collinear\")\n",
      "c:\\Users\\ruben\\anaconda3\\envs\\Tratamientodedatos\\Lib\\site-packages\\sklearn\\discriminant_analysis.py:947: UserWarning: Variables are collinear\n",
      "  warnings.warn(\"Variables are collinear\")\n",
      "c:\\Users\\ruben\\anaconda3\\envs\\Tratamientodedatos\\Lib\\site-packages\\sklearn\\discriminant_analysis.py:947: UserWarning: Variables are collinear\n",
      "  warnings.warn(\"Variables are collinear\")\n",
      "c:\\Users\\ruben\\anaconda3\\envs\\Tratamientodedatos\\Lib\\site-packages\\sklearn\\discriminant_analysis.py:947: UserWarning: Variables are collinear\n",
      "  warnings.warn(\"Variables are collinear\")\n",
      "c:\\Users\\ruben\\anaconda3\\envs\\Tratamientodedatos\\Lib\\site-packages\\sklearn\\discriminant_analysis.py:947: UserWarning: Variables are collinear\n",
      "  warnings.warn(\"Variables are collinear\")\n",
      "c:\\Users\\ruben\\anaconda3\\envs\\Tratamientodedatos\\Lib\\site-packages\\sklearn\\discriminant_analysis.py:947: UserWarning: Variables are collinear\n",
      "  warnings.warn(\"Variables are collinear\")\n",
      "c:\\Users\\ruben\\anaconda3\\envs\\Tratamientodedatos\\Lib\\site-packages\\sklearn\\discriminant_analysis.py:947: UserWarning: Variables are collinear\n",
      "  warnings.warn(\"Variables are collinear\")\n",
      "c:\\Users\\ruben\\anaconda3\\envs\\Tratamientodedatos\\Lib\\site-packages\\sklearn\\discriminant_analysis.py:947: UserWarning: Variables are collinear\n",
      "  warnings.warn(\"Variables are collinear\")\n",
      "c:\\Users\\ruben\\anaconda3\\envs\\Tratamientodedatos\\Lib\\site-packages\\sklearn\\discriminant_analysis.py:947: UserWarning: Variables are collinear\n",
      "  warnings.warn(\"Variables are collinear\")\n",
      "c:\\Users\\ruben\\anaconda3\\envs\\Tratamientodedatos\\Lib\\site-packages\\sklearn\\discriminant_analysis.py:947: UserWarning: Variables are collinear\n",
      "  warnings.warn(\"Variables are collinear\")\n",
      "c:\\Users\\ruben\\anaconda3\\envs\\Tratamientodedatos\\Lib\\site-packages\\sklearn\\discriminant_analysis.py:947: UserWarning: Variables are collinear\n",
      "  warnings.warn(\"Variables are collinear\")\n",
      "c:\\Users\\ruben\\anaconda3\\envs\\Tratamientodedatos\\Lib\\site-packages\\sklearn\\discriminant_analysis.py:947: UserWarning: Variables are collinear\n",
      "  warnings.warn(\"Variables are collinear\")\n",
      "c:\\Users\\ruben\\anaconda3\\envs\\Tratamientodedatos\\Lib\\site-packages\\sklearn\\discriminant_analysis.py:947: UserWarning: Variables are collinear\n",
      "  warnings.warn(\"Variables are collinear\")\n",
      "c:\\Users\\ruben\\anaconda3\\envs\\Tratamientodedatos\\Lib\\site-packages\\sklearn\\discriminant_analysis.py:947: UserWarning: Variables are collinear\n",
      "  warnings.warn(\"Variables are collinear\")\n",
      "c:\\Users\\ruben\\anaconda3\\envs\\Tratamientodedatos\\Lib\\site-packages\\sklearn\\discriminant_analysis.py:947: UserWarning: Variables are collinear\n",
      "  warnings.warn(\"Variables are collinear\")\n",
      "c:\\Users\\ruben\\anaconda3\\envs\\Tratamientodedatos\\Lib\\site-packages\\sklearn\\discriminant_analysis.py:947: UserWarning: Variables are collinear\n",
      "  warnings.warn(\"Variables are collinear\")\n",
      "c:\\Users\\ruben\\anaconda3\\envs\\Tratamientodedatos\\Lib\\site-packages\\sklearn\\discriminant_analysis.py:947: UserWarning: Variables are collinear\n",
      "  warnings.warn(\"Variables are collinear\")\n",
      "c:\\Users\\ruben\\anaconda3\\envs\\Tratamientodedatos\\Lib\\site-packages\\sklearn\\discriminant_analysis.py:947: UserWarning: Variables are collinear\n",
      "  warnings.warn(\"Variables are collinear\")\n",
      "c:\\Users\\ruben\\anaconda3\\envs\\Tratamientodedatos\\Lib\\site-packages\\sklearn\\discriminant_analysis.py:947: UserWarning: Variables are collinear\n",
      "  warnings.warn(\"Variables are collinear\")\n",
      "c:\\Users\\ruben\\anaconda3\\envs\\Tratamientodedatos\\Lib\\site-packages\\sklearn\\discriminant_analysis.py:947: UserWarning: Variables are collinear\n",
      "  warnings.warn(\"Variables are collinear\")\n",
      "c:\\Users\\ruben\\anaconda3\\envs\\Tratamientodedatos\\Lib\\site-packages\\sklearn\\discriminant_analysis.py:947: UserWarning: Variables are collinear\n",
      "  warnings.warn(\"Variables are collinear\")\n",
      "c:\\Users\\ruben\\anaconda3\\envs\\Tratamientodedatos\\Lib\\site-packages\\sklearn\\discriminant_analysis.py:947: UserWarning: Variables are collinear\n",
      "  warnings.warn(\"Variables are collinear\")\n",
      "c:\\Users\\ruben\\anaconda3\\envs\\Tratamientodedatos\\Lib\\site-packages\\sklearn\\discriminant_analysis.py:947: UserWarning: Variables are collinear\n",
      "  warnings.warn(\"Variables are collinear\")\n",
      "c:\\Users\\ruben\\anaconda3\\envs\\Tratamientodedatos\\Lib\\site-packages\\sklearn\\discriminant_analysis.py:947: UserWarning: Variables are collinear\n",
      "  warnings.warn(\"Variables are collinear\")\n",
      "c:\\Users\\ruben\\anaconda3\\envs\\Tratamientodedatos\\Lib\\site-packages\\sklearn\\discriminant_analysis.py:947: UserWarning: Variables are collinear\n",
      "  warnings.warn(\"Variables are collinear\")\n",
      "c:\\Users\\ruben\\anaconda3\\envs\\Tratamientodedatos\\Lib\\site-packages\\sklearn\\discriminant_analysis.py:947: UserWarning: Variables are collinear\n",
      "  warnings.warn(\"Variables are collinear\")\n",
      "c:\\Users\\ruben\\anaconda3\\envs\\Tratamientodedatos\\Lib\\site-packages\\sklearn\\discriminant_analysis.py:947: UserWarning: Variables are collinear\n",
      "  warnings.warn(\"Variables are collinear\")\n",
      "c:\\Users\\ruben\\anaconda3\\envs\\Tratamientodedatos\\Lib\\site-packages\\sklearn\\discriminant_analysis.py:947: UserWarning: Variables are collinear\n",
      "  warnings.warn(\"Variables are collinear\")\n",
      "c:\\Users\\ruben\\anaconda3\\envs\\Tratamientodedatos\\Lib\\site-packages\\sklearn\\discriminant_analysis.py:947: UserWarning: Variables are collinear\n",
      "  warnings.warn(\"Variables are collinear\")\n",
      "c:\\Users\\ruben\\anaconda3\\envs\\Tratamientodedatos\\Lib\\site-packages\\sklearn\\discriminant_analysis.py:947: UserWarning: Variables are collinear\n",
      "  warnings.warn(\"Variables are collinear\")\n",
      "c:\\Users\\ruben\\anaconda3\\envs\\Tratamientodedatos\\Lib\\site-packages\\sklearn\\discriminant_analysis.py:947: UserWarning: Variables are collinear\n",
      "  warnings.warn(\"Variables are collinear\")\n"
     ]
    },
    {
     "name": "stdout",
     "output_type": "stream",
     "text": [
      "0.6000000000000001\n",
      "0.7526142888404695\n",
      "0.7000000000000001\n",
      "0.7539991221650565\n",
      "0.8\n",
      "0.7560250868037961\n",
      "0.9\n",
      "0.7570186351908927\n",
      "1.0\n",
      "0.7539671338617968\n",
      "cv0 = 0.0\n",
      "rp_opt = 0.9\n"
     ]
    },
    {
     "name": "stderr",
     "output_type": "stream",
     "text": [
      "c:\\Users\\ruben\\anaconda3\\envs\\Tratamientodedatos\\Lib\\site-packages\\sklearn\\discriminant_analysis.py:947: UserWarning: Variables are collinear\n",
      "  warnings.warn(\"Variables are collinear\")\n",
      "c:\\Users\\ruben\\anaconda3\\envs\\Tratamientodedatos\\Lib\\site-packages\\sklearn\\discriminant_analysis.py:947: UserWarning: Variables are collinear\n",
      "  warnings.warn(\"Variables are collinear\")\n",
      "c:\\Users\\ruben\\anaconda3\\envs\\Tratamientodedatos\\Lib\\site-packages\\sklearn\\discriminant_analysis.py:947: UserWarning: Variables are collinear\n",
      "  warnings.warn(\"Variables are collinear\")\n",
      "c:\\Users\\ruben\\anaconda3\\envs\\Tratamientodedatos\\Lib\\site-packages\\sklearn\\discriminant_analysis.py:947: UserWarning: Variables are collinear\n",
      "  warnings.warn(\"Variables are collinear\")\n",
      "c:\\Users\\ruben\\anaconda3\\envs\\Tratamientodedatos\\Lib\\site-packages\\sklearn\\discriminant_analysis.py:947: UserWarning: Variables are collinear\n",
      "  warnings.warn(\"Variables are collinear\")\n",
      "c:\\Users\\ruben\\anaconda3\\envs\\Tratamientodedatos\\Lib\\site-packages\\sklearn\\discriminant_analysis.py:947: UserWarning: Variables are collinear\n",
      "  warnings.warn(\"Variables are collinear\")\n",
      "c:\\Users\\ruben\\anaconda3\\envs\\Tratamientodedatos\\Lib\\site-packages\\sklearn\\discriminant_analysis.py:947: UserWarning: Variables are collinear\n",
      "  warnings.warn(\"Variables are collinear\")\n",
      "c:\\Users\\ruben\\anaconda3\\envs\\Tratamientodedatos\\Lib\\site-packages\\sklearn\\discriminant_analysis.py:947: UserWarning: Variables are collinear\n",
      "  warnings.warn(\"Variables are collinear\")\n",
      "c:\\Users\\ruben\\anaconda3\\envs\\Tratamientodedatos\\Lib\\site-packages\\sklearn\\discriminant_analysis.py:947: UserWarning: Variables are collinear\n",
      "  warnings.warn(\"Variables are collinear\")\n",
      "c:\\Users\\ruben\\anaconda3\\envs\\Tratamientodedatos\\Lib\\site-packages\\sklearn\\discriminant_analysis.py:947: UserWarning: Variables are collinear\n",
      "  warnings.warn(\"Variables are collinear\")\n",
      "c:\\Users\\ruben\\anaconda3\\envs\\Tratamientodedatos\\Lib\\site-packages\\sklearn\\discriminant_analysis.py:947: UserWarning: Variables are collinear\n",
      "  warnings.warn(\"Variables are collinear\")\n",
      "c:\\Users\\ruben\\anaconda3\\envs\\Tratamientodedatos\\Lib\\site-packages\\sklearn\\discriminant_analysis.py:947: UserWarning: Variables are collinear\n",
      "  warnings.warn(\"Variables are collinear\")\n",
      "c:\\Users\\ruben\\anaconda3\\envs\\Tratamientodedatos\\Lib\\site-packages\\sklearn\\discriminant_analysis.py:947: UserWarning: Variables are collinear\n",
      "  warnings.warn(\"Variables are collinear\")\n",
      "c:\\Users\\ruben\\anaconda3\\envs\\Tratamientodedatos\\Lib\\site-packages\\sklearn\\discriminant_analysis.py:947: UserWarning: Variables are collinear\n",
      "  warnings.warn(\"Variables are collinear\")\n",
      "c:\\Users\\ruben\\anaconda3\\envs\\Tratamientodedatos\\Lib\\site-packages\\sklearn\\discriminant_analysis.py:947: UserWarning: Variables are collinear\n",
      "  warnings.warn(\"Variables are collinear\")\n",
      "c:\\Users\\ruben\\anaconda3\\envs\\Tratamientodedatos\\Lib\\site-packages\\sklearn\\discriminant_analysis.py:947: UserWarning: Variables are collinear\n",
      "  warnings.warn(\"Variables are collinear\")\n",
      "c:\\Users\\ruben\\anaconda3\\envs\\Tratamientodedatos\\Lib\\site-packages\\sklearn\\discriminant_analysis.py:947: UserWarning: Variables are collinear\n",
      "  warnings.warn(\"Variables are collinear\")\n",
      "c:\\Users\\ruben\\anaconda3\\envs\\Tratamientodedatos\\Lib\\site-packages\\sklearn\\discriminant_analysis.py:947: UserWarning: Variables are collinear\n",
      "  warnings.warn(\"Variables are collinear\")\n",
      "c:\\Users\\ruben\\anaconda3\\envs\\Tratamientodedatos\\Lib\\site-packages\\sklearn\\discriminant_analysis.py:947: UserWarning: Variables are collinear\n",
      "  warnings.warn(\"Variables are collinear\")\n",
      "c:\\Users\\ruben\\anaconda3\\envs\\Tratamientodedatos\\Lib\\site-packages\\sklearn\\discriminant_analysis.py:947: UserWarning: Variables are collinear\n",
      "  warnings.warn(\"Variables are collinear\")\n",
      "c:\\Users\\ruben\\anaconda3\\envs\\Tratamientodedatos\\Lib\\site-packages\\sklearn\\discriminant_analysis.py:947: UserWarning: Variables are collinear\n",
      "  warnings.warn(\"Variables are collinear\")\n",
      "c:\\Users\\ruben\\anaconda3\\envs\\Tratamientodedatos\\Lib\\site-packages\\sklearn\\discriminant_analysis.py:947: UserWarning: Variables are collinear\n",
      "  warnings.warn(\"Variables are collinear\")\n",
      "c:\\Users\\ruben\\anaconda3\\envs\\Tratamientodedatos\\Lib\\site-packages\\sklearn\\discriminant_analysis.py:947: UserWarning: Variables are collinear\n",
      "  warnings.warn(\"Variables are collinear\")\n",
      "c:\\Users\\ruben\\anaconda3\\envs\\Tratamientodedatos\\Lib\\site-packages\\sklearn\\discriminant_analysis.py:947: UserWarning: Variables are collinear\n",
      "  warnings.warn(\"Variables are collinear\")\n",
      "c:\\Users\\ruben\\anaconda3\\envs\\Tratamientodedatos\\Lib\\site-packages\\sklearn\\discriminant_analysis.py:947: UserWarning: Variables are collinear\n",
      "  warnings.warn(\"Variables are collinear\")\n",
      "c:\\Users\\ruben\\anaconda3\\envs\\Tratamientodedatos\\Lib\\site-packages\\sklearn\\discriminant_analysis.py:947: UserWarning: Variables are collinear\n",
      "  warnings.warn(\"Variables are collinear\")\n",
      "c:\\Users\\ruben\\anaconda3\\envs\\Tratamientodedatos\\Lib\\site-packages\\sklearn\\discriminant_analysis.py:947: UserWarning: Variables are collinear\n",
      "  warnings.warn(\"Variables are collinear\")\n",
      "c:\\Users\\ruben\\anaconda3\\envs\\Tratamientodedatos\\Lib\\site-packages\\sklearn\\discriminant_analysis.py:947: UserWarning: Variables are collinear\n",
      "  warnings.warn(\"Variables are collinear\")\n",
      "c:\\Users\\ruben\\anaconda3\\envs\\Tratamientodedatos\\Lib\\site-packages\\sklearn\\discriminant_analysis.py:947: UserWarning: Variables are collinear\n",
      "  warnings.warn(\"Variables are collinear\")\n",
      "c:\\Users\\ruben\\anaconda3\\envs\\Tratamientodedatos\\Lib\\site-packages\\sklearn\\discriminant_analysis.py:947: UserWarning: Variables are collinear\n",
      "  warnings.warn(\"Variables are collinear\")\n",
      "c:\\Users\\ruben\\anaconda3\\envs\\Tratamientodedatos\\Lib\\site-packages\\sklearn\\discriminant_analysis.py:947: UserWarning: Variables are collinear\n",
      "  warnings.warn(\"Variables are collinear\")\n",
      "c:\\Users\\ruben\\anaconda3\\envs\\Tratamientodedatos\\Lib\\site-packages\\sklearn\\discriminant_analysis.py:947: UserWarning: Variables are collinear\n",
      "  warnings.warn(\"Variables are collinear\")\n",
      "c:\\Users\\ruben\\anaconda3\\envs\\Tratamientodedatos\\Lib\\site-packages\\sklearn\\discriminant_analysis.py:947: UserWarning: Variables are collinear\n",
      "  warnings.warn(\"Variables are collinear\")\n",
      "c:\\Users\\ruben\\anaconda3\\envs\\Tratamientodedatos\\Lib\\site-packages\\sklearn\\discriminant_analysis.py:947: UserWarning: Variables are collinear\n",
      "  warnings.warn(\"Variables are collinear\")\n",
      "c:\\Users\\ruben\\anaconda3\\envs\\Tratamientodedatos\\Lib\\site-packages\\sklearn\\discriminant_analysis.py:947: UserWarning: Variables are collinear\n",
      "  warnings.warn(\"Variables are collinear\")\n",
      "c:\\Users\\ruben\\anaconda3\\envs\\Tratamientodedatos\\Lib\\site-packages\\sklearn\\discriminant_analysis.py:947: UserWarning: Variables are collinear\n",
      "  warnings.warn(\"Variables are collinear\")\n",
      "c:\\Users\\ruben\\anaconda3\\envs\\Tratamientodedatos\\Lib\\site-packages\\sklearn\\discriminant_analysis.py:947: UserWarning: Variables are collinear\n",
      "  warnings.warn(\"Variables are collinear\")\n",
      "c:\\Users\\ruben\\anaconda3\\envs\\Tratamientodedatos\\Lib\\site-packages\\sklearn\\discriminant_analysis.py:947: UserWarning: Variables are collinear\n",
      "  warnings.warn(\"Variables are collinear\")\n",
      "c:\\Users\\ruben\\anaconda3\\envs\\Tratamientodedatos\\Lib\\site-packages\\sklearn\\discriminant_analysis.py:947: UserWarning: Variables are collinear\n",
      "  warnings.warn(\"Variables are collinear\")\n",
      "c:\\Users\\ruben\\anaconda3\\envs\\Tratamientodedatos\\Lib\\site-packages\\sklearn\\discriminant_analysis.py:947: UserWarning: Variables are collinear\n",
      "  warnings.warn(\"Variables are collinear\")\n",
      "c:\\Users\\ruben\\anaconda3\\envs\\Tratamientodedatos\\Lib\\site-packages\\sklearn\\discriminant_analysis.py:947: UserWarning: Variables are collinear\n",
      "  warnings.warn(\"Variables are collinear\")\n",
      "c:\\Users\\ruben\\anaconda3\\envs\\Tratamientodedatos\\Lib\\site-packages\\sklearn\\discriminant_analysis.py:947: UserWarning: Variables are collinear\n",
      "  warnings.warn(\"Variables are collinear\")\n",
      "c:\\Users\\ruben\\anaconda3\\envs\\Tratamientodedatos\\Lib\\site-packages\\sklearn\\discriminant_analysis.py:947: UserWarning: Variables are collinear\n",
      "  warnings.warn(\"Variables are collinear\")\n",
      "c:\\Users\\ruben\\anaconda3\\envs\\Tratamientodedatos\\Lib\\site-packages\\sklearn\\discriminant_analysis.py:947: UserWarning: Variables are collinear\n",
      "  warnings.warn(\"Variables are collinear\")\n",
      "c:\\Users\\ruben\\anaconda3\\envs\\Tratamientodedatos\\Lib\\site-packages\\sklearn\\discriminant_analysis.py:947: UserWarning: Variables are collinear\n",
      "  warnings.warn(\"Variables are collinear\")\n",
      "c:\\Users\\ruben\\anaconda3\\envs\\Tratamientodedatos\\Lib\\site-packages\\sklearn\\discriminant_analysis.py:947: UserWarning: Variables are collinear\n",
      "  warnings.warn(\"Variables are collinear\")\n",
      "c:\\Users\\ruben\\anaconda3\\envs\\Tratamientodedatos\\Lib\\site-packages\\sklearn\\discriminant_analysis.py:947: UserWarning: Variables are collinear\n",
      "  warnings.warn(\"Variables are collinear\")\n",
      "c:\\Users\\ruben\\anaconda3\\envs\\Tratamientodedatos\\Lib\\site-packages\\sklearn\\discriminant_analysis.py:947: UserWarning: Variables are collinear\n",
      "  warnings.warn(\"Variables are collinear\")\n",
      "c:\\Users\\ruben\\anaconda3\\envs\\Tratamientodedatos\\Lib\\site-packages\\sklearn\\discriminant_analysis.py:947: UserWarning: Variables are collinear\n",
      "  warnings.warn(\"Variables are collinear\")\n"
     ]
    }
   ],
   "source": [
    "# Write your code here.\n",
    "#<SOL>\n",
    "#</SOL>\n",
    "# print(xCtrain.size)\n",
    "# print(len(xCtrain))\n",
    "# print(xCval.size)\n",
    "# print(len(yCtrain))\n",
    "import sklearn.metrics\n",
    "from sklearn.discriminant_analysis import QuadraticDiscriminantAnalysis\n",
    "from sklearn.model_selection import cross_val_score\n",
    "from sklearn.metrics import make_scorer, f1_score\n",
    "model = QuadraticDiscriminantAnalysis(reg_param=0)\n",
    "xCV = np.vstack((xCtrain,xCval))\n",
    "yV = np.hstack((yCtrain,yCval))\n",
    "scorer = make_scorer(f1_score)\n",
    "cv0 = np.mean(cross_val_score(model, xCV, yV, cv = 10, scoring = scorer))\n",
    "\n",
    "best_score = -np.inf  \n",
    "rp_opt = 0 \n",
    "\n",
    "for rp in np.arange(0,1.1,0.1):\n",
    "    model = QuadraticDiscriminantAnalysis(reg_param=rp)\n",
    "    cv_score = np.mean(cross_val_score(model, xCV, yV, cv = 10, scoring = scorer))\n",
    "    print(rp)\n",
    "    print(cv_score)\n",
    "    if cv_score > best_score:\n",
    "        best_score = cv_score\n",
    "        rp_opt = rp\n",
    "\n",
    "# Print the results.\n",
    "print(f\"cv0 = {cv0}\")\n",
    "print(f\"rp_opt = {rp_opt}\")"
   ]
  },
  {
   "cell_type": "markdown",
   "id": "6bed6926",
   "metadata": {},
   "source": [
    "### Exercise C6 [extra].\n",
    "\n",
    "Take the regularization parameter selected in C5, train the quadratic discriminant using `xCtrain`and `yCtrain`, and compute the false positive rate (i.e. the ratio of false positives vs the total number of negatie samples) of the classifier over the validation set. Save the result in variable `fpr`."
   ]
  },
  {
   "cell_type": "code",
   "execution_count": 52,
   "id": "eb6d984b",
   "metadata": {},
   "outputs": [
    {
     "name": "stdout",
     "output_type": "stream",
     "text": [
      "[[343 124]\n",
      " [117 376]]\n",
      "0.26552462526766596\n"
     ]
    },
    {
     "name": "stderr",
     "output_type": "stream",
     "text": [
      "c:\\Users\\ruben\\anaconda3\\envs\\Tratamientodedatos\\Lib\\site-packages\\sklearn\\discriminant_analysis.py:947: UserWarning: Variables are collinear\n",
      "  warnings.warn(\"Variables are collinear\")\n"
     ]
    },
    {
     "data": {
      "image/png": "[encoded data removed]",
      "text/plain": [
       "<Figure size 600x400 with 1 Axes>"
      ]
     },
     "metadata": {},
     "output_type": "display_data"
    }
   ],
   "source": [
    "# Write your code here.\n",
    "#<SOL>\n",
    "#</SOL>\n",
    "from sklearn.metrics import confusion_matrix\n",
    "import matplotlib.pyplot as plt\n",
    "import seaborn as sns\n",
    "model = QuadraticDiscriminantAnalysis(reg_param=rp_opt)\n",
    "model.fit(xCtrain,yCtrain)\n",
    "y_pred = model.predict(xCval)\n",
    "\n",
    "tn, fp, fn, tp = confusion_matrix(yCval, y_val_pred).ravel()\n",
    "print(confusion_matrix(yCval, y_val_pred))\n",
    "# Calcular la tasa de falsos positivos (False Positive Rate, FPR)\n",
    "fpr = fp / (fp + tn)\n",
    "\n",
    "# Print the false positive rate.\n",
    "print(fpr)\n",
    "\n",
    "cm = confusion_matrix(yCval, y_val_pred)\n",
    "plt.figure(figsize=(6,4))\n",
    "sns.heatmap(cm, annot=True, fmt='d', cmap='Blues', cbar=False)\n",
    "\n",
    "# Añadir etiquetas y título\n",
    "plt.title('Matriz de Confusión')\n",
    "plt.xlabel('Predicción')\n",
    "plt.ylabel('Real')\n",
    "\n",
    "# Mostrar la gráfica\n",
    "plt.show()"
   ]
  },
  {
   "cell_type": "markdown",
   "id": "95f0d800",
   "metadata": {},
   "source": [
    "## Part 2: Regression\n",
    "\n",
    "The mentioned variables include a training set consisting of 300 data points, each consisting of input-output pairs:  $D = \\{{\\bf x}_k, s_k\\}_{k=0}^{299}$. The input vectors are provided as the rows of the variable `xRtrain`, while their corresponding labels are available in the vector `sRtrain`. Use these variables as provided, without applying any normalization procedure.\n",
    "\n",
    "Assume the data were generated according to the following model:\n",
    "$$\n",
    "s = w_0 + w_1 x_0 + w_2 x_2^3 + w_3 \\exp(x_4) + \\varepsilon\n",
    "$$\n",
    "where the noise samples follow a Gaussian distribution with zero mean and variance $\\sigma^2_{\\varepsilon} = 0.4$.\n",
    "\n",
    "### Exercise R1\n",
    "\n",
    "Obtain the maximum likelihood estimator of the model. Store your result in the variable `wML`.\n"
   ]
  },
  {
   "cell_type": "code",
   "execution_count": 53,
   "id": "e58bc2a5",
   "metadata": {},
   "outputs": [
    {
     "data": {
      "text/plain": [
       "(300, 5)"
      ]
     },
     "execution_count": 53,
     "metadata": {},
     "output_type": "execute_result"
    }
   ],
   "source": [
    "xRtrain.shape"
   ]
  },
  {
   "cell_type": "code",
   "execution_count": 54,
   "id": "2e8b89e0",
   "metadata": {},
   "outputs": [
    {
     "name": "stdout",
     "output_type": "stream",
     "text": [
      "[-0.22827806  0.19852257  0.01735276  0.04003244]\n"
     ]
    }
   ],
   "source": [
    "# Write your code here.\n",
    "#<SOL>\n",
    "#</SOL>\n",
    "import numpy as np\n",
    "from sklearn.linear_model import LinearRegression\n",
    "l = len(xRtrain)\n",
    "x0 = xRtrain[:, 0]\n",
    "x2 = xRtrain[:, 2]**3\n",
    "x4 = np.exp(xRtrain[:, 4])\n",
    "\n",
    "Z = np.column_stack((np.ones(l), x0, x2, x4))\n",
    "\n",
    "\n",
    "model = LinearRegression(fit_intercept=False) #sE PUEDE HACER POR FORMULA\n",
    "model.fit(Z, sRtrain)\n",
    "\n",
    "\n",
    "wML = model.coef_\n",
    "\n",
    "# Se puede hacer también por minimos cuadrados\n",
    "# wML = np.linalg.lstsq(Z, sRtrain)[0]\n",
    "\n",
    "# Print the result.\n",
    "print(wML)                    "
   ]
  },
  {
   "cell_type": "markdown",
   "id": "9a1605e8",
   "metadata": {},
   "source": [
    "### Exercise R2\n",
    "\n",
    "For the previously obtained estimator, determine the average absolute error on the training dataset, i.e.,\n",
    "$$\n",
    "\\text{AAE} = \\frac{1}{N} \\sum_{i=1}^{N} |s(i) - \\hat{s}(i)|\n",
    "$$\n",
    "where  N  is the number of training data points. Store your result in the variable AAE.\n"
   ]
  },
  {
   "cell_type": "code",
   "execution_count": 55,
   "id": "6db68be8",
   "metadata": {},
   "outputs": [
    {
     "name": "stdout",
     "output_type": "stream",
     "text": [
      "0.8177666501366135\n"
     ]
    }
   ],
   "source": [
    "# Write your code here.\n",
    "#<SOL>\n",
    "#</SOL>\n",
    "s_train_pred = Z.dot(wML)\n",
    "\n",
    "N = len(sRtrain) \n",
    "AAE = np.sum(np.abs(sRtrain - s_train_pred)) / N\n",
    "# Print the result.\n",
    "print(AAE)"
   ]
  },
  {
   "cell_type": "markdown",
   "id": "e4fbd634",
   "metadata": {},
   "source": [
    "### Exercise R3\n",
    "\n",
    "Compute the negative log-likelihood,  of the previously obtained estimator using the training data, and store the result in the variable `NLL`."
   ]
  },
  {
   "cell_type": "code",
   "execution_count": 56,
   "id": "9c2c6b7f",
   "metadata": {},
   "outputs": [
    {
     "name": "stdout",
     "output_type": "stream",
     "text": [
      "310.7184613636165\n",
      "388.3980767045206\n",
      "0\n"
     ]
    }
   ],
   "source": [
    "# Write your code here.\n",
    "#<SOL>\n",
    "#</SOL>\n",
    "K = len(sRtrain)\n",
    "d = sRtrain-np.dot(Z, wML)\n",
    "\n",
    "print(np.dot(d, d))\n",
    "sigma_eps = np.sqrt(0.4)\n",
    "print(np.dot(d, d) / (2*sigma_eps**2))\n",
    "LL = - K/2*np.log(2*np.pi*sigma_eps**2) - np.dot(d, d) / (2*sigma_eps**2)\n",
    "print(NLL)"
   ]
  },
  {
   "cell_type": "markdown",
   "id": "20a5cf57",
   "metadata": {},
   "source": [
    "### Exercise R4\n",
    "\n",
    "Assume that the weight vector ${\\bf w}$  has a prior distribution  $p_W({\\bf w})$ , which is Gaussian with zero mean, unit variances ($\\text{var}\\{w_i\\} = 1$), and covariances $\\text{cov}\\{w_i, w_j\\} = 0.5$,  $i \\neq j$. \n",
    "\n",
    "Compute the posterior mean and the posterior covariance matrix of ${\\bf w}$ . Store your results in the variables `wmean` and `Vw`."
   ]
  },
  {
   "cell_type": "markdown",
   "id": "1d6b99f8",
   "metadata": {},
   "source": [
    "La media posterior \\( \\mathbf{w}_{\\text{mean}} \\) y la matriz de covarianza posterior \\( V_w \\) se calculan de la siguiente manera:\n",
    "\n",
    "1. **Matriz de covarianza posterior**:\n",
    "   $\n",
    "   V_w = \\left( \\frac{1}{\\sigma^2} X^T X + \\Sigma^{-1} \\right)^{-1}\n",
    "   $\n",
    "\n",
    "2. **Media posterior**:\n",
    "   $\n",
    "   \\mathbf{w}_{\\text{mean}} = V_w \\left( \\frac{1}{\\sigma^2} X^T \\mathbf{s} + \\Sigma^{-1} \\mathbf{w}_0 \\right)\n",
    "   $"
   ]
  },
  {
   "cell_type": "code",
   "execution_count": 57,
   "id": "9ac08e32",
   "metadata": {},
   "outputs": [
    {
     "name": "stdout",
     "output_type": "stream",
     "text": [
      "0\n",
      "[[ 1.71723112e-03 -5.50058769e-05 -3.09101298e-07 -2.21149075e-04]\n",
      " [-5.50058769e-05  1.34195844e-03 -1.61350313e-05  3.21553783e-05]\n",
      " [-3.09101298e-07 -1.61350313e-05  7.61683135e-05 -1.21757617e-06]\n",
      " [-2.21149075e-04  3.21553783e-05 -1.21757617e-06  1.26486310e-04]]\n"
     ]
    }
   ],
   "source": [
    "# Write your code here.\n",
    "#<SOL>\n",
    "#</SOL>\n",
    "\n",
    "N = len(sRtrain)  # Número de puntos de datos\n",
    "sigma_squared = 0.4  # Varianza del ruido\n",
    "\n",
    "# 1. Definir la matriz de covarianza\n",
    "covariance = 0.5\n",
    "Vw = np.full((4, 4), covariance)\n",
    "np.fill_diagonal(Vw, 1)\n",
    "\n",
    "\n",
    "w0 = np.zeros(4)  # Media a priori\n",
    "\n",
    "\n",
    "XTX_inv = np.linalg.inv((1/sigma_squared) * np.dot(Z.T, Z) + np.linalg.inv(Vw))\n",
    "Vw = XTX_inv\n",
    "\n",
    "w_mean = np.dot(Vw, (1/sigma_squared) * np.dot(Z.T, sRtrain) + np.dot(np.linalg.inv(Vw), w0))\n",
    "\n",
    "# Print the results.\n",
    "print(wmean)\n",
    "print(Vw)"
   ]
  },
  {
   "cell_type": "code",
   "execution_count": 58,
   "id": "f17baac5",
   "metadata": {},
   "outputs": [],
   "source": [
    "# ###########################################\n",
    "# Save results in file results.npz\n",
    "np.savez('results.npz',\n",
    "         w_full=w_full, e_full=e_full, p20=p20, emin=emin, nvar=nvar,\n",
    "         cv0=cv0, rp_opt=rp_opt, fpr=fpr, xCtrain=xCtrain, xCval=xCval,\n",
    "         wmin=wmin, wML=wML, AAE=AAE, NLL=NLL, wmean=wmean, Vw=Vw)"
   ]
  },
  {
   "cell_type": "markdown",
   "id": "52502dbf",
   "metadata": {},
   "source": []
  }
 ],
 "metadata": {
  "accelerator": "GPU",
  "colab": {
   "collapsed_sections": [],
   "name": "Hand_Digit_with_NN_professor.ipynb",
   "provenance": [],
   "toc_visible": true
  },
  "kernelspec": {
   "display_name": "Tratamientodedatos",
   "language": "python",
   "name": "python3"
  },
  "language_info": {
   "codemirror_mode": {
    "name": "ipython",
    "version": 3
   },
   "file_extension": ".py",
   "mimetype": "text/x-python",
   "name": "python",
   "nbconvert_exporter": "python",
   "pygments_lexer": "ipython3",
   "version": "3.11.9"
  },
  "toc": {
   "base_numbering": 1,
   "nav_menu": {},
   "number_sections": false,
   "sideBar": true,
   "skip_h1_title": false,
   "title_cell": "Table of Contents",
   "title_sidebar": "Contents",
   "toc_cell": true,
   "toc_position": {},
   "toc_section_display": true,
   "toc_window_display": true
  }
 },
 "nbformat": 4,
 "nbformat_minor": 5
}
